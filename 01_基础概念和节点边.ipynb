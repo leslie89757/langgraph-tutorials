{
 "cells": [
  {
   "cell_type": "markdown",
   "metadata": {},
   "source": [
    "# 01. LangGraph 基础概念和节点边\n",
    "\n",
    "## 课程目标\n",
    "- 理解 LangGraph 的核心概念\n",
    "- 学习如何定义节点（Nodes）\n",
    "- 掌握边（Edges）的创建和连接\n",
    "- 构建并执行第一个图结构\n",
    "\n",
    "## 什么是 LangGraph？\n",
    "\n",
    "LangGraph 是一个用于构建有状态的、多角色的 LLM 应用程序的库。它提供了以下核心功能：\n",
    "\n",
    "1. **图结构**：将复杂的 LLM 工作流表示为图\n",
    "2. **状态管理**：在节点之间传递和更新状态\n",
    "3. **条件逻辑**：基于状态决定执行路径\n",
    "4. **持久化**：保存和恢复执行状态\n",
    "5. **人机交互**：支持人工干预和审批"
   ]
  },
  {
   "cell_type": "markdown",
   "metadata": {},
   "source": [
    "## 1. 环境准备"
   ]
  },
  {
   "cell_type": "code",
   "execution_count": null,
   "metadata": {},
   "outputs": [],
   "source": [
    "# 安装必要的包\n",
    "!pip install -q langgraph langchain langchain-openai python-dotenv"
   ]
  },
  {
   "cell_type": "code",
   "execution_count": null,
   "metadata": {},
   "outputs": [],
   "source": [
    "# 导入必要的库\n",
    "from typing import TypedDict, Literal\n",
    "from langgraph.graph import Graph, END\n",
    "from langgraph.graph.message import add_messages\n",
    "from IPython.display import Image, display\n",
    "import json"
   ]
  },
  {
   "cell_type": "markdown",
   "metadata": {},
   "source": [
    "## 2. 核心概念：节点（Nodes）\n",
    "\n",
    "节点是图中的基本执行单元。每个节点：\n",
    "- 接收状态作为输入\n",
    "- 执行某些操作\n",
    "- 返回更新后的状态\n",
    "\n",
    "让我们创建一些简单的节点："
   ]
  },
  {
   "cell_type": "code",
   "execution_count": null,
   "metadata": {},
   "outputs": [],
   "source": [
    "# 定义一个简单的状态结构\n",
    "class State(TypedDict):\n",
    "    # 消息列表\n",
    "    messages: list[str]\n",
    "    # 计数器\n",
    "    counter: int\n",
    "    # 处理结果\n",
    "    result: str"
   ]
  },
  {
   "cell_type": "code",
   "execution_count": null,
   "metadata": {},
   "outputs": [],
   "source": [
    "# 定义节点函数\n",
    "def node_a(state: State) -> State:\n",
    "    \"\"\"第一个节点：初始化消息\"\"\"\n",
    "    print(\"执行节点 A\")\n",
    "    return {\n",
    "        \"messages\": state.get(\"messages\", []) + [\"节点A已处理\"],\n",
    "        \"counter\": state.get(\"counter\", 0) + 1,\n",
    "        \"result\": \"A处理中\"\n",
    "    }\n",
    "\n",
    "def node_b(state: State) -> State:\n",
    "    \"\"\"第二个节点：处理消息\"\"\"\n",
    "    print(\"执行节点 B\")\n",
    "    return {\n",
    "        \"messages\": state.get(\"messages\", []) + [\"节点B已处理\"],\n",
    "        \"counter\": state.get(\"counter\", 0) + 1,\n",
    "        \"result\": \"B处理中\"\n",
    "    }\n",
    "\n",
    "def node_c(state: State) -> State:\n",
    "    \"\"\"第三个节点：完成处理\"\"\"\n",
    "    print(\"执行节点 C\")\n",
    "    return {\n",
    "        \"messages\": state.get(\"messages\", []) + [\"节点C已完成\"],\n",
    "        \"counter\": state.get(\"counter\", 0) + 1,\n",
    "        \"result\": \"处理完成\"\n",
    "    }"
   ]
  },
  {
   "cell_type": "markdown",
   "metadata": {},
   "source": [
    "## 3. 核心概念：边（Edges）\n",
    "\n",
    "边定义了节点之间的连接关系。有两种类型的边：\n",
    "1. **普通边**：无条件地从一个节点流向另一个节点\n",
    "2. **条件边**：基于某些条件决定流向（后续课程详细介绍）"
   ]
  },
  {
   "cell_type": "code",
   "execution_count": null,
   "metadata": {},
   "outputs": [],
   "source": [
    "# 创建一个简单的线性图\n",
    "def create_linear_graph():\n",
    "    # 初始化图\n",
    "    graph = Graph()\n",
    "    \n",
    "    # 添加节点\n",
    "    graph.add_node(\"node_a\", node_a)\n",
    "    graph.add_node(\"node_b\", node_b)\n",
    "    graph.add_node(\"node_c\", node_c)\n",
    "    \n",
    "    # 添加边（定义执行顺序）\n",
    "    graph.add_edge(\"node_a\", \"node_b\")  # A -> B\n",
    "    graph.add_edge(\"node_b\", \"node_c\")  # B -> C\n",
    "    graph.add_edge(\"node_c\", END)       # C -> 结束\n",
    "    \n",
    "    # 设置入口点\n",
    "    graph.set_entry_point(\"node_a\")\n",
    "    \n",
    "    return graph\n",
    "\n",
    "# 创建图\n",
    "linear_graph = create_linear_graph()\n",
    "print(\"线性图创建成功！\")"
   ]
  },
  {
   "cell_type": "markdown",
   "metadata": {},
   "source": [
    "## 4. 编译和执行图"
   ]
  },
  {
   "cell_type": "code",
   "execution_count": null,
   "metadata": {},
   "outputs": [],
   "source": [
    "# 编译图\n",
    "app = linear_graph.compile()\n",
    "\n",
    "# 可视化图结构\n",
    "try:\n",
    "    display(Image(app.get_graph().draw_mermaid_png()))\n",
    "except Exception as e:\n",
    "    print(f\"无法显示图形，请确保安装了 graphviz: {e}\")\n",
    "    # 打印图的文本表示\n",
    "    print(app.get_graph().draw_mermaid())"
   ]
  },
  {
   "cell_type": "code",
   "execution_count": null,
   "metadata": {},
   "outputs": [],
   "source": [
    "# 执行图\n",
    "initial_state = {\n",
    "    \"messages\": [\"开始处理\"],\n",
    "    \"counter\": 0,\n",
    "    \"result\": \"\"\n",
    "}\n",
    "\n",
    "print(\"开始执行图...\\n\")\n",
    "result = app.invoke(initial_state)\n",
    "\n",
    "print(\"\\n执行结果：\")\n",
    "print(json.dumps(result, ensure_ascii=False, indent=2))"
   ]
  },
  {
   "cell_type": "markdown",
   "metadata": {},
   "source": [
    "## 5. 创建分支图结构\n",
    "\n",
    "让我们创建一个更复杂的图，包含分支结构："
   ]
  },
  {
   "cell_type": "code",
   "execution_count": null,
   "metadata": {},
   "outputs": [],
   "source": [
    "# 定义带有分支的节点\n",
    "def start_node(state: State) -> State:\n",
    "    \"\"\"起始节点\"\"\"\n",
    "    print(\"🚀 开始处理\")\n",
    "    return {\n",
    "        \"messages\": [\"流程开始\"],\n",
    "        \"counter\": 1,\n",
    "        \"result\": \"初始化\"\n",
    "    }\n",
    "\n",
    "def process_path_1(state: State) -> State:\n",
    "    \"\"\"处理路径1\"\"\"\n",
    "    print(\"📝 执行路径1\")\n",
    "    return {\n",
    "        \"messages\": state[\"messages\"] + [\"路径1处理\"],\n",
    "        \"counter\": state[\"counter\"] + 1,\n",
    "        \"result\": \"路径1完成\"\n",
    "    }\n",
    "\n",
    "def process_path_2(state: State) -> State:\n",
    "    \"\"\"处理路径2\"\"\"\n",
    "    print(\"📊 执行路径2\")\n",
    "    return {\n",
    "        \"messages\": state[\"messages\"] + [\"路径2处理\"],\n",
    "        \"counter\": state[\"counter\"] + 1,\n",
    "        \"result\": \"路径2完成\"\n",
    "    }\n",
    "\n",
    "def merge_node(state: State) -> State:\n",
    "    \"\"\"合并节点\"\"\"\n",
    "    print(\"🔄 合并结果\")\n",
    "    return {\n",
    "        \"messages\": state[\"messages\"] + [\"结果已合并\"],\n",
    "        \"counter\": state[\"counter\"] + 1,\n",
    "        \"result\": \"全部完成\"\n",
    "    }\n",
    "\n",
    "def decide_path(state: State) -> Literal[\"path1\", \"path2\"]:\n",
    "    \"\"\"决策函数：根据状态决定走哪条路径\"\"\"\n",
    "    # 这里可以根据实际逻辑来决定\n",
    "    # 示例：根据计数器的奇偶性决定\n",
    "    if state[\"counter\"] % 2 == 0:\n",
    "        print(\"➡️ 选择路径2\")\n",
    "        return \"path2\"\n",
    "    else:\n",
    "        print(\"➡️ 选择路径1\")\n",
    "        return \"path1\""
   ]
  },
  {
   "cell_type": "code",
   "execution_count": null,
   "metadata": {},
   "outputs": [],
   "source": [
    "# 创建分支图\n",
    "def create_branching_graph():\n",
    "    graph = Graph()\n",
    "    \n",
    "    # 添加节点\n",
    "    graph.add_node(\"start\", start_node)\n",
    "    graph.add_node(\"path1\", process_path_1)\n",
    "    graph.add_node(\"path2\", process_path_2)\n",
    "    graph.add_node(\"merge\", merge_node)\n",
    "    \n",
    "    # 设置入口\n",
    "    graph.set_entry_point(\"start\")\n",
    "    \n",
    "    # 添加条件边\n",
    "    graph.add_conditional_edges(\n",
    "        \"start\",\n",
    "        decide_path,\n",
    "        {\n",
    "            \"path1\": \"path1\",\n",
    "            \"path2\": \"path2\"\n",
    "        }\n",
    "    )\n",
    "    \n",
    "    # 两条路径都汇聚到merge节点\n",
    "    graph.add_edge(\"path1\", \"merge\")\n",
    "    graph.add_edge(\"path2\", \"merge\")\n",
    "    graph.add_edge(\"merge\", END)\n",
    "    \n",
    "    return graph\n",
    "\n",
    "# 创建并编译分支图\n",
    "branching_graph = create_branching_graph()\n",
    "branching_app = branching_graph.compile()\n",
    "\n",
    "print(\"分支图创建成功！\")"
   ]
  },
  {
   "cell_type": "code",
   "execution_count": null,
   "metadata": {},
   "outputs": [],
   "source": [
    "# 可视化分支图\n",
    "try:\n",
    "    display(Image(branching_app.get_graph().draw_mermaid_png()))\n",
    "except:\n",
    "    print(branching_app.get_graph().draw_mermaid())"
   ]
  },
  {
   "cell_type": "code",
   "execution_count": null,
   "metadata": {},
   "outputs": [],
   "source": [
    "# 执行分支图\n",
    "print(\"执行分支图...\\n\")\n",
    "result = branching_app.invoke({})\n",
    "\n",
    "print(\"\\n最终结果：\")\n",
    "print(json.dumps(result, ensure_ascii=False, indent=2))"
   ]
  },
  {
   "cell_type": "markdown",
   "metadata": {},
   "source": [
    "## 6. 实践：构建一个简单的对话流程\n",
    "\n",
    "让我们构建一个更实用的例子：一个简单的对话处理流程"
   ]
  },
  {
   "cell_type": "code",
   "execution_count": null,
   "metadata": {},
   "outputs": [],
   "source": [
    "# 定义对话状态\n",
    "class ConversationState(TypedDict):\n",
    "    user_input: str\n",
    "    intent: str\n",
    "    response: str\n",
    "    history: list[str]\n",
    "\n",
    "# 定义处理节点\n",
    "def understand_intent(state: ConversationState) -> ConversationState:\n",
    "    \"\"\"理解用户意图\"\"\"\n",
    "    user_input = state.get(\"user_input\", \"\")\n",
    "    \n",
    "    # 简单的意图识别逻辑\n",
    "    if \"你好\" in user_input or \"hello\" in user_input.lower():\n",
    "        intent = \"greeting\"\n",
    "    elif \"帮助\" in user_input or \"help\" in user_input.lower():\n",
    "        intent = \"help\"\n",
    "    elif \"再见\" in user_input or \"bye\" in user_input.lower():\n",
    "        intent = \"goodbye\"\n",
    "    else:\n",
    "        intent = \"general\"\n",
    "    \n",
    "    print(f\"🎯 识别意图: {intent}\")\n",
    "    \n",
    "    return {\n",
    "        **state,\n",
    "        \"intent\": intent,\n",
    "        \"history\": state.get(\"history\", []) + [f\"用户: {user_input}\"]\n",
    "    }\n",
    "\n",
    "def generate_response(state: ConversationState) -> ConversationState:\n",
    "    \"\"\"生成回复\"\"\"\n",
    "    intent = state.get(\"intent\", \"general\")\n",
    "    \n",
    "    # 根据意图生成回复\n",
    "    responses = {\n",
    "        \"greeting\": \"你好！很高兴见到你。有什么我可以帮助你的吗？\",\n",
    "        \"help\": \"我可以帮你处理各种问题。请告诉我你需要什么帮助。\",\n",
    "        \"goodbye\": \"再见！祝你有美好的一天！\",\n",
    "        \"general\": \"我理解了你的请求。让我来帮你处理这个问题。\"\n",
    "    }\n",
    "    \n",
    "    response = responses.get(intent, \"抱歉，我不太明白你的意思。\")\n",
    "    print(f\"💬 生成回复: {response}\")\n",
    "    \n",
    "    return {\n",
    "        **state,\n",
    "        \"response\": response,\n",
    "        \"history\": state.get(\"history\", []) + [f\"助手: {response}\"]\n",
    "    }\n",
    "\n",
    "def log_conversation(state: ConversationState) -> ConversationState:\n",
    "    \"\"\"记录对话\"\"\"\n",
    "    print(\"📝 对话已记录\")\n",
    "    return state"
   ]
  },
  {
   "cell_type": "code",
   "execution_count": null,
   "metadata": {},
   "outputs": [],
   "source": [
    "# 构建对话处理图\n",
    "def create_conversation_graph():\n",
    "    graph = Graph()\n",
    "    \n",
    "    # 添加节点\n",
    "    graph.add_node(\"understand\", understand_intent)\n",
    "    graph.add_node(\"respond\", generate_response)\n",
    "    graph.add_node(\"log\", log_conversation)\n",
    "    \n",
    "    # 设置流程\n",
    "    graph.set_entry_point(\"understand\")\n",
    "    graph.add_edge(\"understand\", \"respond\")\n",
    "    graph.add_edge(\"respond\", \"log\")\n",
    "    graph.add_edge(\"log\", END)\n",
    "    \n",
    "    return graph\n",
    "\n",
    "# 编译对话图\n",
    "conversation_graph = create_conversation_graph()\n",
    "conversation_app = conversation_graph.compile()\n",
    "\n",
    "print(\"对话处理图创建成功！\")"
   ]
  },
  {
   "cell_type": "code",
   "execution_count": null,
   "metadata": {},
   "outputs": [],
   "source": [
    "# 测试对话系统\n",
    "test_inputs = [\n",
    "    \"你好\",\n",
    "    \"我需要帮助\",\n",
    "    \"今天天气怎么样\",\n",
    "    \"再见\"\n",
    "]\n",
    "\n",
    "for user_input in test_inputs:\n",
    "    print(f\"\\n{'='*50}\")\n",
    "    print(f\"用户输入: {user_input}\")\n",
    "    print(f\"{'='*50}\")\n",
    "    \n",
    "    result = conversation_app.invoke({\n",
    "        \"user_input\": user_input,\n",
    "        \"history\": []\n",
    "    })\n",
    "    \n",
    "    print(f\"\\n最终回复: {result['response']}\")\n",
    "    print(f\"对话历史: {result['history']}\")"
   ]
  },
  {
   "cell_type": "markdown",
   "metadata": {},
   "source": [
    "## 7. 流式执行\n",
    "\n",
    "LangGraph 支持流式执行，可以实时观察图的执行过程："
   ]
  },
  {
   "cell_type": "code",
   "execution_count": null,
   "metadata": {},
   "outputs": [],
   "source": [
    "# 流式执行示例\n",
    "print(\"流式执行对话处理...\\n\")\n",
    "\n",
    "for event in conversation_app.stream({\n",
    "    \"user_input\": \"你好，请帮助我\",\n",
    "    \"history\": []\n",
    "}):\n",
    "    # 打印每个节点的执行结果\n",
    "    for node_name, node_output in event.items():\n",
    "        print(f\"\\n节点 [{node_name}] 输出:\")\n",
    "        print(json.dumps(node_output, ensure_ascii=False, indent=2))"
   ]
  },
  {
   "cell_type": "markdown",
   "metadata": {},
   "source": [
    "## 8. 练习题\n",
    "\n",
    "### 练习 1：创建一个数据处理管道\n",
    "创建一个图，包含以下节点：\n",
    "1. 数据验证节点\n",
    "2. 数据清洗节点\n",
    "3. 数据转换节点\n",
    "4. 数据保存节点"
   ]
  },
  {
   "cell_type": "code",
   "execution_count": null,
   "metadata": {},
   "outputs": [],
   "source": [
    "# 在这里实现你的数据处理管道\n",
    "class DataState(TypedDict):\n",
    "    raw_data: list\n",
    "    valid_data: list\n",
    "    clean_data: list\n",
    "    transformed_data: list\n",
    "    status: str\n",
    "\n",
    "def validate_data(state: DataState) -> DataState:\n",
    "    \"\"\"验证数据\"\"\"\n",
    "    # 实现验证逻辑\n",
    "    pass\n",
    "\n",
    "def clean_data(state: DataState) -> DataState:\n",
    "    \"\"\"清洗数据\"\"\"\n",
    "    # 实现清洗逻辑\n",
    "    pass\n",
    "\n",
    "def transform_data(state: DataState) -> DataState:\n",
    "    \"\"\"转换数据\"\"\"\n",
    "    # 实现转换逻辑\n",
    "    pass\n",
    "\n",
    "def save_data(state: DataState) -> DataState:\n",
    "    \"\"\"保存数据\"\"\"\n",
    "    # 实现保存逻辑\n",
    "    pass\n",
    "\n",
    "# 构建并测试你的图"
   ]
  },
  {
   "cell_type": "markdown",
   "metadata": {},
   "source": [
    "### 练习 2：添加错误处理\n",
    "修改上面的对话处理图，添加错误处理节点，当意图识别失败时，走错误处理路径。"
   ]
  },
  {
   "cell_type": "code",
   "execution_count": null,
   "metadata": {},
   "outputs": [],
   "source": [
    "# 在这里实现带错误处理的对话图\n"
   ]
  },
  {
   "cell_type": "markdown",
   "metadata": {},
   "source": [
    "## 总结\n",
    "\n",
    "在本课中，我们学习了：\n",
    "\n",
    "1. **LangGraph 的核心概念**\n",
    "   - 图、节点、边的基本概念\n",
    "   - 状态在节点间的传递\n",
    "\n",
    "2. **节点的定义和使用**\n",
    "   - 节点函数的编写\n",
    "   - 状态的接收和返回\n",
    "\n",
    "3. **边的创建和连接**\n",
    "   - 普通边的使用\n",
    "   - 条件边的基础介绍\n",
    "\n",
    "4. **图的构建和执行**\n",
    "   - 图的编译\n",
    "   - 同步和流式执行\n",
    "\n",
    "## 下一课预告\n",
    "\n",
    "在下一课中，我们将深入学习：\n",
    "- StateGraph 的详细使用\n",
    "- 状态管理的高级特性\n",
    "- Reducer 函数的应用\n",
    "- 状态注解和类型系统"
   ]
  }
 ],
 "metadata": {
  "kernelspec": {
   "display_name": "Python 3",
   "language": "python",
   "name": "python3"
  },
  "language_info": {
   "codemirror_mode": {
    "name": "ipython",
    "version": 3
   },
   "file_extension": ".py",
   "mimetype": "text/x-python",
   "name": "python",
   "nbconvert_exporter": "python",
   "pygments_lexer": "ipython3",
   "version": "3.11.0"
  }
 },
 "nbformat": 4,
 "nbformat_minor": 4
}